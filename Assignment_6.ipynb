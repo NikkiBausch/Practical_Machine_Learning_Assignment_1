{
 "cells": [
  {
   "cell_type": "markdown",
   "metadata": {},
   "source": [
    "<img src=\"https://communications.univie.ac.at/fileadmin/_processed_/csm_Uni_Logo_2016_2f47aacf37.jpg\" \n",
    "     alt=\"Logo Universität Wien\" \n",
    "     width=\"200\"/>\n",
    "\n",
    "# Practical Machine Learning for Natural Language Processing - 2023 SS  \n",
    "\n",
    "### Assigment 2 - Generators and Classes   \n",
    "\n",
    "In this assigment we are going to play with generators and instances/classes - structures that retain state.  "
   ]
  },
  {
   "cell_type": "markdown",
   "metadata": {},
   "source": [
    "***"
   ]
  },
  {
   "cell_type": "markdown",
   "metadata": {},
   "source": [
    "### 1. Alea Iacta Est  \n",
    "\n",
    "(a) Using [generator functions](https://github.com/rsouza/Python_Course/blob/master/Notebooks/Python_Basic/03_Functions.ipynb), create an object that emulates an eight-sided dice (1-8) that is biased, such that the probability of this generator function returning a certain value is proportional to the value itself (i.e. the face \"6\" is 3 times more likely to come out than face \"2\");  \n",
    "\n",
    " <img src=\"https://cdn11.bigcommerce.com/s-70184/images/stencil/608x608/products/532/7428/d8-dice-blue__64321.1664335674.jpg\" alt=\"8-Dice\" style=\"width:250px;height:300px;\"> \n",
    "\n",
    "(b) Using [Matplotlib](https://matplotlib.org/) plt.plot or plt.hist commands, show graphically the result of 10000 casts of the die;  \n",
    "\n",
    "(c) Modify this generator function so that it terminates automatically when all possible values (1,2,3,4,5,6,7,8) have been cast at least once. In this case, it will return the total absolute time that has elapsed since the first iteration.  (hint: a function can have both **return** and **yield** commands)  "
   ]
  },
  {
   "cell_type": "code",
   "execution_count": 4,
   "metadata": {},
   "outputs": [
    {
     "name": "stdout",
     "output_type": "stream",
     "text": [
      "[4]\n",
      "[7]\n",
      "[8]\n",
      "[3]\n",
      "[8]\n",
      "[1]\n",
      "[7]\n",
      "[2]\n",
      "[6]\n",
      "[7]\n",
      "[8]\n",
      "[4]\n",
      "[8]\n",
      "[7]\n",
      "[8]\n",
      "[7]\n",
      "[7]\n",
      "[7]\n",
      "[8]\n",
      "[4]\n",
      "[6]\n",
      "[7]\n",
      "[4]\n",
      "[3]\n",
      "[8]\n",
      "[7]\n",
      "[5]\n",
      "[6]\n",
      "[3]\n",
      "[7]\n"
     ]
    }
   ],
   "source": [
    "# a) \n",
    "import random \n",
    "#bias_distribution = (1, 2, 3, 4, 5, 6, 7, 8) \n",
    "\n",
    "def dice(distribution): \n",
    "    counter = [*range(1, distribution+1)]\n",
    "    bias_sum = 36 #36 sum of all biases \n",
    "    num_in_distribution = [i/bias_sum for i in range(1, (distribution+1))]\n",
    "    #throw = random.random(0,8)\n",
    "    while True:\n",
    "    #while throw < empty_counter:  \n",
    "        yield random.choices(counter, weights= num_in_distribution, k = 1)\n",
    "        #empty_counter += number\n",
    "        #throw+=1 \n",
    "for i in range(30): \n",
    "    print(next(dice(8)))\n",
    "    \n",
    "\n",
    "    \n",
    "#look up how to use lists in generator functions "
   ]
  },
  {
   "cell_type": "code",
   "execution_count": 7,
   "metadata": {},
   "outputs": [
    {
     "data": {
      "image/png": "[encoded data removed]",
      "text/plain": [
       "<Figure size 432x288 with 1 Axes>"
      ]
     },
     "metadata": {
      "needs_background": "light"
     },
     "output_type": "display_data"
    }
   ],
   "source": [
    "# b) \n",
    "import matplotlib.pyplot as plt\n",
    "\n",
    "data = [next(dice(8)) for i in range(0,1000)]\n",
    "plt.title(\"Results of Rolling 8-sided Biased Die 1000 Times\")\n",
    "plt.xlabel(\"Score\")\n",
    "plt.ylabel(\"Total Frequency\")\n",
    "plt.hist(data)\n",
    "plt.show()"
   ]
  },
  {
   "cell_type": "code",
   "execution_count": 2,
   "metadata": {},
   "outputs": [
    {
     "name": "stdout",
     "output_type": "stream",
     "text": [
      "something\n",
      "3\n",
      "5\n",
      "4\n",
      "2\n",
      "7\n",
      "8\n",
      "8\n",
      "6\n",
      "6\n",
      "7\n",
      "4\n",
      "8\n",
      "8\n",
      "1\n"
     ]
    },
    {
     "data": {
      "text/plain": [
       "0.0"
      ]
     },
     "execution_count": 2,
     "metadata": {},
     "output_type": "execute_result"
    }
   ],
   "source": [
    "# c)\n",
    "import random\n",
    "import time\n",
    " \n",
    "\n",
    "def new_dice(distribution, sides, output=True): \n",
    "    now = time.time()\n",
    "        \n",
    "    def dice(distribution):\n",
    "        counter = [*range(1, distribution+1)]\n",
    "        bias_sum = 36 \n",
    "        num_in_distribution = [i/bias_sum for i in range(1, (distribution+1))]\n",
    "        \n",
    "        while True: \n",
    "            throw = random.choices(counter, weights= num_in_distribution, k = 1)\n",
    "            yield throw[0]\n",
    "    \n",
    "    side_values = [*range(1, distribution+1)]\n",
    "    stop = []\n",
    "    for i in range(0, sides): \n",
    "        if all(item in stop for item in side_values):\n",
    "            break\n",
    "        else:    \n",
    "            side= next(dice(8))\n",
    "            stop.append(side) \n",
    "            if output: \n",
    "                print(side)\n",
    "        \n",
    "       \n",
    "           \n",
    "    return (time.time() - now)\n",
    "             \n",
    "         \n",
    "        \n",
    "new_dice(8, 30)\n",
    "\n"
   ]
  },
  {
   "cell_type": "markdown",
   "metadata": {},
   "source": [
    "### 2. A ticket to the first Class    \n",
    "\n",
    "+ Create a Class called \"Elevator\". Each instance of this class receives as parameters the number of floors in the building and starts the elevator on the lowest floor.  \n",
    "+ This Class should have methods and properties to allow the elevator to:\n",
    "<br></br>\n",
    "    + Receive a call - user(s) press a button to go to specific floor(s);  \n",
    "    + Receive a floor as a destination - when users enter the elevator, each one may press a button to choose destination floor;  \n",
    "    + Store and inform which floor the elevator is at each moment(consider that trips for consecutive floors takes 5 seconds, and stopping takes 10 seconds);  \n",
    "    + Store and inform which users are in the elevator;  \n",
    "    + Store and inform the sequence of floors yet to be visited;  \n",
    "    + Store the number of times the elevator stopped in each floor (passing through the floor without \"stopping\" on the floor does not count);  \n",
    "    + Refuses commands to go to inexistent floors.  \n",
    "<br></br>\n",
    "+ Simulate the behavior of the elevator serving ten users, each one calling from a random floor, and chosing a random destination floor.   \n",
    "+ Graphically illustrate the current elevator position for the requested simulation.   \n",
    "+ (BONUS) Create a smart building simulator, controlling calls made to n > 1 elevators and routing elevator properly.  "
   ]
  },
  {
   "cell_type": "code",
   "execution_count": 3,
   "metadata": {},
   "outputs": [
    {
     "name": "stdout",
     "output_type": "stream",
     "text": [
      "Collecting random-username\n",
      "  Downloading random_username-1.0.2-py3-none-any.whl (6.7 kB)\n",
      "Installing collected packages: random-username\n",
      "Successfully installed random-username-1.0.2\n"
     ]
    }
   ],
   "source": [
    "!pip install random-username"
   ]
  },
  {
   "cell_type": "code",
   "execution_count": 1,
   "metadata": {},
   "outputs": [],
   "source": [
    " #properties: users, floors that do exist, floors that have been visited, floors that haven't been visited\n",
    "\n",
    "import random \n",
    "from random_username.generate import generate_username as GU\n",
    "\n",
    "\n",
    "    \n",
    "class Elevator: \n",
    "    \"\"\" num_floors is the total number of floors in the building,\n",
    "    num_users is the total number of users per trip\"\"\"\n",
    "    count_floors = 0\n",
    "    def __init__(self, num_floors, num_users): \n",
    "        self.num_floors = num_floors \n",
    "        self.num_users = num_users\n",
    "         \n",
    "       \n",
    "    def call_Elevator(self, count_floors = 0): \n",
    "        \"\"\"add users with names so we can save key/value pairs with floors_visited from the random int simulation of users picking floors. \"\"\"\n",
    "        floors_visited = []\n",
    "        user_labels = GU(10) #Will have to change this variable here because I can't get it to take num_users input as an argument, but I hate hard-coding for this reason\n",
    "        Users = []\n",
    "        Users.append(user_labels)\n",
    "        #user_info = dict(zip(Users, str(new_floor)))\n",
    "        print(f\"Here's the silly names the random username generator came up with for our test elevator users: \") \n",
    "        print(user_labels)\n",
    "        print(Users)\n",
    "        elevator_usage = dict(zip(Users, floors_visited))\n",
    "        print(elevator_usage)\n",
    "        \"\"\"Here, users pick the floor they want to go to. \n",
    "        For now, I am having the users start on the ground floor to keep it simple, because more logic for return trips will take longer.\"\"\"\n",
    "      \n",
    "        #Incorporating the random library to simulate a user choosing a floor \n",
    "        #Again, I really did not want to do it like this: wanted it to take num_users as the end argument in random. But I am running out of time here and it won't take it.\n",
    "        new_floor = random.randint(0, 60) #Because I have set it to be limited to the number of floors in the simulation, the user cannot pick a floor that doesn't exist.\n",
    "        count_floors += new_floor\n",
    "        #Add new_floor to floors_visited\n",
    "        floors_visited.append(new_floor)\n",
    "        current_floor = new_floor\n",
    "        print(f\"New floor selected: proceeding to \" + str(new_floor) + \"!\")\n",
    "        \n",
    "    \n",
    "       \n",
    "    \n",
    "    #def floors_not_visited(self, num_floors): \n",
    "        unvisited_floors = ()\n",
    "        for floor in num_floors:\n",
    "            if floor not in floors_visited:\n",
    "                unvisited_floors.append(floor)\n",
    "        print(f\"The following floors have not been visited in this simulation: \", unvisited_floors)\n",
    "        stop_time = 10\n",
    "        go_time = 5\n",
    "        current_floor = new_floor #Having all users start at the ground floor because there isn't enough time to program return trips into this. \n",
    "        total_time = stop_time + go_time\n",
    "        time_counter = 0\n",
    "        i = (current_floor - count_floors)\n",
    "        if current_floor > count_floors: \n",
    "            current_floor -= i \n",
    "            #and new floor needs to be added to floors_visited()\n",
    "            floors_visited.append(current_floor) #In the first two, I am assuming the elevator would need to stop and go. \n",
    "            time_counter += total_time\n",
    "            #If elevator is on a lower level than the user, then it needs to go up, and new floor needs to be added to floors_visited(). \n",
    "            print(f\"Now arriving on floor \" + str(current_floor) + \"!\")\n",
    "        elif current_floor < count_floors: \n",
    "            current_floor += i\n",
    "            floors_visited.append(current_floor)\n",
    "            print(f\"Now arriving on floor \" + str(current_floor) + \"!\")\n",
    "            #If elevator is at the same level as the user, then it just needs to open the doors. \n",
    "        elif current_floor == count_floors: \n",
    "            print(f\"Attention! Elevator door is opening!\") \n",
    "            floors_visited.append(current_floor)\n",
    "            time_counter += total_time\n",
    "        \n",
    "        else: \n",
    "            print(f\"No floors called: the Elevator is standing by on \" + str(current_floor) + \" ready for the next trip.\")\n",
    "            time_counter += stop_time #Ideally, I would like to take into account the hours or minutes that the elevator is without users, but this becomes a huge problem if I do.\n",
    "        print(f\"Floors visited: \" + str(floors_visited) + \": Total time for each :  \" + str(time_counter)) \n",
    "            \n",
    "  \n",
    "        \n",
    "        \n",
    "\n"
   ]
  },
  {
   "cell_type": "code",
   "execution_count": 2,
   "metadata": {},
   "outputs": [
    {
     "name": "stdout",
     "output_type": "stream",
     "text": [
      "Here's the silly names the random username generator came up with for our test elevator users: \n",
      "['somberGnu6', 'solidLard2', 'dopeyHare3', 'wornoutCockatoo6', 'offendedPonie3', 'boredTruffle9', 'alertThrushe6', 'bubblyBurritos8', 'ferventSeafowl7', 'shyCod6']\n",
      "[['somberGnu6', 'solidLard2', 'dopeyHare3', 'wornoutCockatoo6', 'offendedPonie3', 'boredTruffle9', 'alertThrushe6', 'bubblyBurritos8', 'ferventSeafowl7', 'shyCod6']]\n",
      "{}\n",
      "New floor selected: proceeding to 50!\n"
     ]
    },
    {
     "ename": "NameError",
     "evalue": "name 'num_floors' is not defined",
     "output_type": "error",
     "traceback": [
      "\u001b[1;31m---------------------------------------------------------------------------\u001b[0m",
      "\u001b[1;31mNameError\u001b[0m                                 Traceback (most recent call last)",
      "Input \u001b[1;32mIn [2]\u001b[0m, in \u001b[0;36m<cell line: 2>\u001b[1;34m()\u001b[0m\n\u001b[0;32m      1\u001b[0m test_ride_1 \u001b[38;5;241m=\u001b[39m Elevator(\u001b[38;5;241m60\u001b[39m, \u001b[38;5;241m10\u001b[39m)\n\u001b[1;32m----> 2\u001b[0m \u001b[43mtest_ride_1\u001b[49m\u001b[38;5;241;43m.\u001b[39;49m\u001b[43mcall_Elevator\u001b[49m\u001b[43m(\u001b[49m\u001b[43m)\u001b[49m\n",
      "Input \u001b[1;32mIn [1]\u001b[0m, in \u001b[0;36mElevator.call_Elevator\u001b[1;34m(self, count_floors)\u001b[0m\n\u001b[0;32m     44\u001b[0m \u001b[38;5;66;03m#def floors_not_visited(self, num_floors): \u001b[39;00m\n\u001b[0;32m     45\u001b[0m     unvisited_floors \u001b[38;5;241m=\u001b[39m ()\n\u001b[1;32m---> 46\u001b[0m     \u001b[38;5;28;01mfor\u001b[39;00m floor \u001b[38;5;129;01min\u001b[39;00m \u001b[43mnum_floors\u001b[49m:\n\u001b[0;32m     47\u001b[0m         \u001b[38;5;28;01mif\u001b[39;00m floor \u001b[38;5;129;01mnot\u001b[39;00m \u001b[38;5;129;01min\u001b[39;00m floors_visited:\n\u001b[0;32m     48\u001b[0m             unvisited_floors\u001b[38;5;241m.\u001b[39mappend(floor)\n",
      "\u001b[1;31mNameError\u001b[0m: name 'num_floors' is not defined"
     ]
    }
   ],
   "source": [
    "test_ride_1 = Elevator(60, 10)\n",
    "test_ride_1.call_Elevator()\n",
    "\n",
    "\n",
    "\n",
    "\n"
   ]
  },
  {
   "cell_type": "code",
   "execution_count": 3,
   "metadata": {},
   "outputs": [
    {
     "name": "stdout",
     "output_type": "stream",
     "text": [
      "simulation results here\n"
     ]
    }
   ],
   "source": [
    "print(\"simulation results here\")"
   ]
  },
  {
   "cell_type": "code",
   "execution_count": 26,
   "metadata": {},
   "outputs": [
    {
     "name": "stdout",
     "output_type": "stream",
     "text": [
      "New floor selected: proceeding to 21.\n",
      "Attention! Elevator door is opening!\n",
      "Here's the silly name the random username generator came up with for our test elevator user: \n",
      "['resolvedOryx4']\n"
     ]
    }
   ],
   "source": []
  },
  {
   "cell_type": "code",
   "execution_count": 5,
   "metadata": {},
   "outputs": [
    {
     "name": "stdout",
     "output_type": "stream",
     "text": [
      "Will probably delete this since I don't need it anymore.\n"
     ]
    }
   ],
   "source": [
    "print(\"Will probably delete this since I don't need it anymore.\")"
   ]
  },
  {
   "cell_type": "code",
   "execution_count": 5,
   "metadata": {},
   "outputs": [
    {
     "name": "stdout",
     "output_type": "stream",
     "text": [
      "There will be math here.\n"
     ]
    }
   ],
   "source": []
  },
  {
   "cell_type": "code",
   "execution_count": null,
   "metadata": {},
   "outputs": [],
   "source": []
  },
  {
   "cell_type": "code",
   "execution_count": null,
   "metadata": {},
   "outputs": [],
   "source": []
  },
  {
   "cell_type": "code",
   "execution_count": null,
   "metadata": {},
   "outputs": [],
   "source": []
  },
  {
   "cell_type": "code",
   "execution_count": null,
   "metadata": {},
   "outputs": [],
   "source": []
  },
  {
   "cell_type": "code",
   "execution_count": null,
   "metadata": {},
   "outputs": [],
   "source": []
  },
  {
   "cell_type": "code",
   "execution_count": null,
   "metadata": {},
   "outputs": [],
   "source": []
  },
  {
   "cell_type": "code",
   "execution_count": null,
   "metadata": {},
   "outputs": [],
   "source": []
  }
 ],
 "metadata": {
  "kernelspec": {
   "display_name": "Python 3 (ipykernel)",
   "language": "python",
   "name": "python3"
  },
  "language_info": {
   "codemirror_mode": {
    "name": "ipython",
    "version": 3
   },
   "file_extension": ".py",
   "mimetype": "text/x-python",
   "name": "python",
   "nbconvert_exporter": "python",
   "pygments_lexer": "ipython3",
   "version": "3.9.12"
  }
 },
 "nbformat": 4,
 "nbformat_minor": 4
}
