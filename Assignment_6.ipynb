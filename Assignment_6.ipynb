{
 "cells": [
  {
   "cell_type": "markdown",
   "metadata": {},
   "source": [
    "<img src=\"https://communications.univie.ac.at/fileadmin/_processed_/csm_Uni_Logo_2016_2f47aacf37.jpg\" \n",
    "     alt=\"Logo Universität Wien\" \n",
    "     width=\"200\"/>\n",
    "\n",
    "# Practical Machine Learning for Natural Language Processing - 2023 SS  \n",
    "\n",
    "### Assigment 2 - Generators and Classes   \n",
    "\n",
    "In this assigment we are going to play with generators and instances/classes - structures that retain state.  "
   ]
  },
  {
   "cell_type": "markdown",
   "metadata": {},
   "source": [
    "***"
   ]
  },
  {
   "cell_type": "markdown",
   "metadata": {},
   "source": [
    "### 1. Alea Iacta Est  \n",
    "\n",
    "(a) Using [generator functions](https://github.com/rsouza/Python_Course/blob/master/Notebooks/Python_Basic/03_Functions.ipynb), create an object that emulates an eight-sided dice (1-8) that is biased, such that the probability of this generator function returning a certain value is proportional to the value itself (i.e. the face \"6\" is 3 times more likely to come out than face \"2\");  \n",
    "\n",
    " <img src=\"https://cdn11.bigcommerce.com/s-70184/images/stencil/608x608/products/532/7428/d8-dice-blue__64321.1664335674.jpg\" alt=\"8-Dice\" style=\"width:250px;height:300px;\"> \n",
    "\n",
    "(b) Using [Matplotlib](https://matplotlib.org/) plt.plot or plt.hist commands, show graphically the result of 10000 casts of the die;  \n",
    "\n",
    "(c) Modify this generator function so that it terminates automatically when all possible values (1,2,3,4,5,6,7,8) have been cast at least once. In this case, it will return the total absolute time that has elapsed since the first iteration.  (hint: a function can have both **return** and **yield** commands)  "
   ]
  },
  {
   "cell_type": "code",
   "execution_count": 23,
   "metadata": {},
   "outputs": [
    {
     "name": "stdout",
     "output_type": "stream",
     "text": [
      "[6]\n",
      "[5]\n",
      "[8]\n",
      "[8]\n",
      "[4]\n",
      "[7]\n",
      "[4]\n",
      "[3]\n",
      "[6]\n",
      "[7]\n",
      "[4]\n",
      "[4]\n",
      "[4]\n",
      "[1]\n",
      "[3]\n",
      "[8]\n",
      "[4]\n",
      "[5]\n",
      "[8]\n",
      "[6]\n",
      "[8]\n",
      "[2]\n",
      "[8]\n",
      "[6]\n",
      "[6]\n",
      "[7]\n",
      "[8]\n",
      "[6]\n",
      "[4]\n",
      "[8]\n"
     ]
    }
   ],
   "source": [
    "# a) \n",
    "import random \n",
    "#bias_distribution = (1, 2, 3, 4, 5, 6, 7, 8) \n",
    "\n",
    "def dice(distribution): \n",
    "    counter = [*range(1, distribution+1)]\n",
    "    bias_sum = 36 #36 sum of all biases \n",
    "    num_in_distribution = [i/bias_sum for i in range(1, (distribution+1))]\n",
    "    #throw = random.random(0,8)\n",
    "    while True:\n",
    "    #while throw < empty_counter:  \n",
    "        yield random.choices(counter, weights= num_in_distribution, k = 1)\n",
    "        #empty_counter += number\n",
    "        #throw+=1 \n",
    "for i in range(30): \n",
    "    print(next(dice(8)))\n",
    "    \n",
    "\n",
    "    \n",
    "#look up how to use lists in generator functions "
   ]
  },
  {
   "cell_type": "code",
   "execution_count": 26,
   "metadata": {},
   "outputs": [
    {
     "data": {
      "image/png": "[encoded data removed]",
      "text/plain": [
       "<Figure size 432x288 with 1 Axes>"
      ]
     },
     "metadata": {
      "needs_background": "light"
     },
     "output_type": "display_data"
    },
    {
     "data": {
      "text/plain": [
       "<Figure size 1440x1008 with 0 Axes>"
      ]
     },
     "metadata": {},
     "output_type": "display_data"
    }
   ],
   "source": [
    "# b) \n",
    "import matplotlib.pyplot as plt\n",
    "\n",
    "data = [next(dice(8)) for i in range(0,1000)]\n",
    "plt.title(\"Results of Rolling 8-sided Biased Die 1000 Times\")\n",
    "plt.xlabel(\"Score\")\n",
    "plt.ylabel(\"Total Frequency\")\n",
    "plt.hist(data)\n",
    "plt.figure(figsize=(20, 14))\n",
    "plt.show()\n"
   ]
  },
  {
   "cell_type": "code",
   "execution_count": 2,
   "metadata": {},
   "outputs": [
    {
     "name": "stdout",
     "output_type": "stream",
     "text": [
      "something\n",
      "3\n",
      "5\n",
      "4\n",
      "2\n",
      "7\n",
      "8\n",
      "8\n",
      "6\n",
      "6\n",
      "7\n",
      "4\n",
      "8\n",
      "8\n",
      "1\n"
     ]
    },
    {
     "data": {
      "text/plain": [
       "0.0"
      ]
     },
     "execution_count": 2,
     "metadata": {},
     "output_type": "execute_result"
    }
   ],
   "source": [
    "# c)\n",
    "import random\n",
    "import time\n",
    " \n",
    "\n",
    "def new_dice(distribution, sides, output=True): \n",
    "    now = time.time()\n",
    "        \n",
    "    def dice(distribution):\n",
    "        counter = [*range(1, distribution+1)]\n",
    "        bias_sum = 36 \n",
    "        num_in_distribution = [i/bias_sum for i in range(1, (distribution+1))]\n",
    "        \n",
    "        while True: \n",
    "            throw = random.choices(counter, weights= num_in_distribution, k = 1)\n",
    "            yield throw[0]\n",
    "    \n",
    "    side_values = [*range(1, distribution+1)]\n",
    "    stop = []\n",
    "    for i in range(0, sides): \n",
    "        if all(item in stop for item in side_values):\n",
    "            break\n",
    "        else:    \n",
    "            side= next(dice(8))\n",
    "            stop.append(side) \n",
    "            if output: \n",
    "                print(side)\n",
    "        \n",
    "       \n",
    "           \n",
    "    return (time.time() - now)\n",
    "             \n",
    "         \n",
    "        \n",
    "new_dice(8, 30)\n",
    "\n"
   ]
  },
  {
   "cell_type": "markdown",
   "metadata": {},
   "source": [
    "### 2. A ticket to the first Class    \n",
    "\n",
    "+ Create a Class called \"Elevator\". Each instance of this class receives as parameters the number of floors in the building and starts the elevator on the lowest floor.  \n",
    "+ This Class should have methods and properties to allow the elevator to:\n",
    "<br></br>\n",
    "    + Receive a call - user(s) press a button to go to specific floor(s);  \n",
    "    + Receive a floor as a destination - when users enter the elevator, each one may press a button to choose destination floor;  \n",
    "    + Store and inform which floor the elevator is at each moment(consider that trips for consecutive floors takes 5 seconds, and stopping takes 10 seconds);  \n",
    "    + Store and inform which users are in the elevator;  \n",
    "    + Store and inform the sequence of floors yet to be visited;  \n",
    "    + Store the number of times the elevator stopped in each floor (passing through the floor without \"stopping\" on the floor does not count);  \n",
    "    + Refuses commands to go to inexistent floors.  \n",
    "<br></br>\n",
    "+ Simulate the behavior of the elevator serving ten users, each one calling from a random floor, and chosing a random destination floor.   \n",
    "+ Graphically illustrate the current elevator position for the requested simulation.   \n",
    "+ (BONUS) Create a smart building simulator, controlling calls made to n > 1 elevators and routing elevator properly.  "
   ]
  },
  {
   "cell_type": "code",
   "execution_count": 3,
   "metadata": {},
   "outputs": [
    {
     "name": "stdout",
     "output_type": "stream",
     "text": [
      "Collecting random-username\n",
      "  Downloading random_username-1.0.2-py3-none-any.whl (6.7 kB)\n",
      "Installing collected packages: random-username\n",
      "Successfully installed random-username-1.0.2\n"
     ]
    }
   ],
   "source": [
    "!pip install random-username"
   ]
  },
  {
   "cell_type": "code",
   "execution_count": 3,
   "metadata": {},
   "outputs": [],
   "source": [
    " \"\"\"Originally, I wanted to make it so that you just put the total number of users and number of stories in the Elevator class, and then \n",
    "    #you can run it and have each user choose an individual floor. But it's not going that way, so I have had to improvise in order to get\n",
    "    #most of the requirements in. (Sorry.) \"\"\"\n",
    "\n",
    "import random \n",
    "from random_username.generate import generate_username as GU\n",
    "\n",
    "\n",
    "    \n",
    "class Elevator: \n",
    "    \"\"\" num_floors is the total number of floors in the building,\n",
    "    num_users is the total number of users per trip\"\"\"\n",
    "    count_floors = 0\n",
    "    def __init__(self, num_floors, num_users): \n",
    "        self.num_floors = num_floors \n",
    "        self.num_users = num_users\n",
    "         \n",
    "       \n",
    "    def call_Elevator(self, count_floors = 0): \n",
    "        \"\"\"add users with names so we can save key/value pairs with floors_visited from the random int simulation of users picking floors. \"\"\"\n",
    "        floors_visited = []\n",
    "        user_labels = GU(self.num_users) #Will have to change this variable here because I can't get it to take num_users input as an argument, but I hate hard-coding for this reason\n",
    "        Users = []\n",
    "        Users.append(user_labels)\n",
    "        #user_info = dict(zip(Users, str(new_floor)))\n",
    "        print(f\"Here's the silly names the random username generator came up with for our test elevator users: \") \n",
    "        print(Users)\n",
    "        \n",
    "        \"\"\"Here, users pick the floor they want to go to. \n",
    "        For now, I am having the users start on the ground floor to keep it simple, because more logic for return trips will take longer.\"\"\"\n",
    "      \n",
    "        #Incorporating the random library to simulate a user choosing a floor \n",
    "        #Again, I really did not want to do it like this: wanted it to take num_users as the end argument in random. But I am running out of time here and it won't take it.\n",
    "        new_floor = random.randint(0, self.num_floors) #Because I have set it to be limited to the number of floors in the simulation, the user cannot pick a floor that doesn't exist.\n",
    "        count_floors += new_floor\n",
    "        #Add new_floor to floors_visited\n",
    "        floors_visited.append(new_floor)\n",
    "        current_floor = new_floor\n",
    "        print(f\"New floor selected: proceeding to \" + str(new_floor) + \"!\")\n",
    "         \n",
    "        unvisited_floors = []\n",
    "        for floor in range(0, 60):\n",
    "            if floor not in floors_visited:\n",
    "                unvisited_floors.append(floor)\n",
    "        print(f\"The following floors have not been visited in this simulation: \", unvisited_floors)\n",
    "        stop_time = 10\n",
    "        go_time = 5\n",
    "        current_floor = new_floor #Having all users start at the ground floor because there isn't enough time to program return trips into this. \n",
    "        total_time = stop_time + go_time\n",
    "        time_counter = 0\n",
    "        i = (current_floor - count_floors)\n",
    "        if current_floor > count_floors: \n",
    "            current_floor -= i \n",
    "            #and new floor needs to be added to floors_visited()\n",
    "            floors_visited.append(current_floor) #In the first two, I am assuming the elevator would need to stop and go. \n",
    "            time_counter += total_time\n",
    "            #If elevator is on a lower level than the user, then it needs to go up, and new floor needs to be added to floors_visited(). \n",
    "            print(f\"Now arriving on floor \" + str(current_floor) + \"!\")\n",
    "        elif current_floor < count_floors: \n",
    "            current_floor += i\n",
    "            floors_visited.append(current_floor)\n",
    "            print(f\"Now arriving on floor \" + str(current_floor) + \"!\")\n",
    "            #If elevator is at the same level as the user, then it just needs to open the doors. \n",
    "        elif current_floor == count_floors: \n",
    "            print(f\"Attention! Elevator door is opening!\") \n",
    "            floors_visited.append(current_floor)\n",
    "            time_counter += total_time\n",
    "        \n",
    "        else: \n",
    "            print(f\"No floors called: the Elevator is standing by on \" + str(current_floor) + \" ready for the next trip.\")\n",
    "            time_counter += stop_time #Ideally, I would like to take into account the hours or minutes that the elevator is without users, but this becomes a huge problem if I do.\n",
    "        print(f\"Floors visited: \" + str(floors_visited) + \": Total time for each :  \" + str(time_counter)) \n",
    "            \n",
    "  \n",
    "        \n",
    "        \n",
    "\n"
   ]
  },
  {
   "cell_type": "code",
   "execution_count": 4,
   "metadata": {},
   "outputs": [
    {
     "name": "stdout",
     "output_type": "stream",
     "text": [
      "Here's the silly names the random username generator came up with for our test elevator users: \n",
      "[['insecureTacos4']]\n",
      "New floor selected: proceeding to 59!\n",
      "The following floors have not been visited in this simulation:  [0, 1, 2, 3, 4, 5, 6, 7, 8, 9, 10, 11, 12, 13, 14, 15, 16, 17, 18, 19, 20, 21, 22, 23, 24, 25, 26, 27, 28, 29, 30, 31, 32, 33, 34, 35, 36, 37, 38, 39, 40, 41, 42, 43, 44, 45, 46, 47, 48, 49, 50, 51, 52, 53, 54, 55, 56, 57, 58]\n",
      "Attention! Elevator door is opening!\n",
      "Floors visited: [59, 59]: Total time for each :  15\n",
      "Here's the silly names the random username generator came up with for our test elevator users: \n",
      "[['troubledDove8']]\n",
      "New floor selected: proceeding to 24!\n",
      "The following floors have not been visited in this simulation:  [0, 1, 2, 3, 4, 5, 6, 7, 8, 9, 10, 11, 12, 13, 14, 15, 16, 17, 18, 19, 20, 21, 22, 23, 25, 26, 27, 28, 29, 30, 31, 32, 33, 34, 35, 36, 37, 38, 39, 40, 41, 42, 43, 44, 45, 46, 47, 48, 49, 50, 51, 52, 53, 54, 55, 56, 57, 58, 59]\n",
      "Attention! Elevator door is opening!\n",
      "Floors visited: [24, 24]: Total time for each :  15\n",
      "Here's the silly names the random username generator came up with for our test elevator users: \n",
      "[['decimalEland9']]\n",
      "New floor selected: proceeding to 26!\n",
      "The following floors have not been visited in this simulation:  [0, 1, 2, 3, 4, 5, 6, 7, 8, 9, 10, 11, 12, 13, 14, 15, 16, 17, 18, 19, 20, 21, 22, 23, 24, 25, 27, 28, 29, 30, 31, 32, 33, 34, 35, 36, 37, 38, 39, 40, 41, 42, 43, 44, 45, 46, 47, 48, 49, 50, 51, 52, 53, 54, 55, 56, 57, 58, 59]\n",
      "Attention! Elevator door is opening!\n",
      "Floors visited: [26, 26]: Total time for each :  15\n",
      "Here's the silly names the random username generator came up with for our test elevator users: \n",
      "[['scornfulDingo7']]\n",
      "New floor selected: proceeding to 31!\n",
      "The following floors have not been visited in this simulation:  [0, 1, 2, 3, 4, 5, 6, 7, 8, 9, 10, 11, 12, 13, 14, 15, 16, 17, 18, 19, 20, 21, 22, 23, 24, 25, 26, 27, 28, 29, 30, 32, 33, 34, 35, 36, 37, 38, 39, 40, 41, 42, 43, 44, 45, 46, 47, 48, 49, 50, 51, 52, 53, 54, 55, 56, 57, 58, 59]\n",
      "Attention! Elevator door is opening!\n",
      "Floors visited: [31, 31]: Total time for each :  15\n",
      "Here's the silly names the random username generator came up with for our test elevator users: \n",
      "[['lazyBass6']]\n",
      "New floor selected: proceeding to 0!\n",
      "The following floors have not been visited in this simulation:  [1, 2, 3, 4, 5, 6, 7, 8, 9, 10, 11, 12, 13, 14, 15, 16, 17, 18, 19, 20, 21, 22, 23, 24, 25, 26, 27, 28, 29, 30, 31, 32, 33, 34, 35, 36, 37, 38, 39, 40, 41, 42, 43, 44, 45, 46, 47, 48, 49, 50, 51, 52, 53, 54, 55, 56, 57, 58, 59]\n",
      "Attention! Elevator door is opening!\n",
      "Floors visited: [0, 0]: Total time for each :  15\n",
      "Here's the silly names the random username generator came up with for our test elevator users: \n",
      "[['troubledGnu5']]\n",
      "New floor selected: proceeding to 33!\n",
      "The following floors have not been visited in this simulation:  [0, 1, 2, 3, 4, 5, 6, 7, 8, 9, 10, 11, 12, 13, 14, 15, 16, 17, 18, 19, 20, 21, 22, 23, 24, 25, 26, 27, 28, 29, 30, 31, 32, 34, 35, 36, 37, 38, 39, 40, 41, 42, 43, 44, 45, 46, 47, 48, 49, 50, 51, 52, 53, 54, 55, 56, 57, 58, 59]\n",
      "Attention! Elevator door is opening!\n",
      "Floors visited: [33, 33]: Total time for each :  15\n",
      "Here's the silly names the random username generator came up with for our test elevator users: \n",
      "[['needfulCrackers7']]\n",
      "New floor selected: proceeding to 12!\n",
      "The following floors have not been visited in this simulation:  [0, 1, 2, 3, 4, 5, 6, 7, 8, 9, 10, 11, 13, 14, 15, 16, 17, 18, 19, 20, 21, 22, 23, 24, 25, 26, 27, 28, 29, 30, 31, 32, 33, 34, 35, 36, 37, 38, 39, 40, 41, 42, 43, 44, 45, 46, 47, 48, 49, 50, 51, 52, 53, 54, 55, 56, 57, 58, 59]\n",
      "Attention! Elevator door is opening!\n",
      "Floors visited: [12, 12]: Total time for each :  15\n",
      "Here's the silly names the random username generator came up with for our test elevator users: \n",
      "[['insecureBaboon2']]\n",
      "New floor selected: proceeding to 0!\n",
      "The following floors have not been visited in this simulation:  [1, 2, 3, 4, 5, 6, 7, 8, 9, 10, 11, 12, 13, 14, 15, 16, 17, 18, 19, 20, 21, 22, 23, 24, 25, 26, 27, 28, 29, 30, 31, 32, 33, 34, 35, 36, 37, 38, 39, 40, 41, 42, 43, 44, 45, 46, 47, 48, 49, 50, 51, 52, 53, 54, 55, 56, 57, 58, 59]\n",
      "Attention! Elevator door is opening!\n",
      "Floors visited: [0, 0]: Total time for each :  15\n",
      "Here's the silly names the random username generator came up with for our test elevator users: \n",
      "[['cockyTeal3']]\n",
      "New floor selected: proceeding to 16!\n",
      "The following floors have not been visited in this simulation:  [0, 1, 2, 3, 4, 5, 6, 7, 8, 9, 10, 11, 12, 13, 14, 15, 17, 18, 19, 20, 21, 22, 23, 24, 25, 26, 27, 28, 29, 30, 31, 32, 33, 34, 35, 36, 37, 38, 39, 40, 41, 42, 43, 44, 45, 46, 47, 48, 49, 50, 51, 52, 53, 54, 55, 56, 57, 58, 59]\n",
      "Attention! Elevator door is opening!\n",
      "Floors visited: [16, 16]: Total time for each :  15\n",
      "Here's the silly names the random username generator came up with for our test elevator users: \n",
      "[['affectedCockatoo0']]\n",
      "New floor selected: proceeding to 16!\n",
      "The following floors have not been visited in this simulation:  [0, 1, 2, 3, 4, 5, 6, 7, 8, 9, 10, 11, 12, 13, 14, 15, 17, 18, 19, 20, 21, 22, 23, 24, 25, 26, 27, 28, 29, 30, 31, 32, 33, 34, 35, 36, 37, 38, 39, 40, 41, 42, 43, 44, 45, 46, 47, 48, 49, 50, 51, 52, 53, 54, 55, 56, 57, 58, 59]\n",
      "Attention! Elevator door is opening!\n",
      "Floors visited: [16, 16]: Total time for each :  15\n"
     ]
    }
   ],
   "source": [
    "test_1 = Elevator(60, 1)\n",
    "test_1.call_Elevator()\n",
    "test_2 = Elevator(60, 1)\n",
    "test_2.call_Elevator()\n",
    "test_3 = Elevator(60, 1) \n",
    "test_3.call_Elevator()\n",
    "test_4 = Elevator(60, 1)\n",
    "test_4.call_Elevator()\n",
    "test_5 = Elevator(60, 1)\n",
    "test_5.call_Elevator()\n",
    "test_6 = Elevator(60, 1)\n",
    "test_6.call_Elevator()\n",
    "test_7 = Elevator(60, 1)\n",
    "test_7.call_Elevator()\n",
    "test_8 = Elevator(60, 1)\n",
    "test_8.call_Elevator()\n",
    "test_9 = Elevator(60, 1) \n",
    "test_9.call_Elevator()\n",
    "test_10 = Elevator(60, 1) \n",
    "test_10.call_Elevator()\n",
    "\n",
    "\n",
    "\n",
    "\n"
   ]
  },
  {
   "cell_type": "markdown",
   "metadata": {},
   "source": [
    "Simulation Results: "
   ]
  },
  {
   "cell_type": "code",
   "execution_count": 19,
   "metadata": {},
   "outputs": [
    {
     "data": {
      "image/png": "[encoded data removed]",
      "text/plain": [
       "<Figure size 432x288 with 1 Axes>"
      ]
     },
     "metadata": {
      "needs_background": "light"
     },
     "output_type": "display_data"
    },
    {
     "data": {
      "text/plain": [
       "<Figure size 432x288 with 0 Axes>"
      ]
     },
     "metadata": {},
     "output_type": "display_data"
    }
   ],
   "source": [
    "import matplotlib.pyplot as pyplot\n",
    "%matplotlib inline \n",
    "\n",
    "user_and_floor_info = {\"insecureTacos4\": 59, \"troubledDove8\": 24, \"decimalEland9\": 26, \"scornfulDingo7\": 31, \"lazyBass6\": 0, \"troubledGnu5\": 33, \"needfulCrackers7\": 12, \"insecureBaboon2\": 0, \"cockyTeal3\": 16, \"affectedCockatoo0\": 16}\n",
    "#print(user_and_floor_info)\n",
    "\n",
    "x_axis = [key for key, value in user_and_floor_info.items()]\n",
    "y_axis = [value for key, value in user_and_floor_info.items()]\n",
    "pyplot.grid(True)\n",
    "\n",
    "pyplot.plot(x_axis, y_axis, color = 'purple', marker = 'o')\n",
    "pyplot.xlabel(\"User Code Name\")\n",
    "pyplot.ylabel(\"Floors Visited by each User\")\n",
    "pyplot.figure(figsize(20, 14)\n",
    "pyplot.show()\n",
    "\n",
    "        "
   ]
  },
  {
   "cell_type": "code",
   "execution_count": null,
   "metadata": {},
   "outputs": [],
   "source": []
  },
  {
   "cell_type": "code",
   "execution_count": null,
   "metadata": {},
   "outputs": [],
   "source": []
  }
 ],
 "metadata": {
  "kernelspec": {
   "display_name": "Python 3 (ipykernel)",
   "language": "python",
   "name": "python3"
  },
  "language_info": {
   "codemirror_mode": {
    "name": "ipython",
    "version": 3
   },
   "file_extension": ".py",
   "mimetype": "text/x-python",
   "name": "python",
   "nbconvert_exporter": "python",
   "pygments_lexer": "ipython3",
   "version": "3.9.12"
  }
 },
 "nbformat": 4,
 "nbformat_minor": 4
}
